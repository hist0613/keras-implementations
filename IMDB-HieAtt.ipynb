{
 "cells": [
  {
   "cell_type": "code",
   "execution_count": 1,
   "metadata": {},
   "outputs": [],
   "source": [
    "MAX_SENTENCES = 10\n",
    "MAX_SENTENCE_LENGTH = 25"
   ]
  },
  {
   "cell_type": "code",
   "execution_count": 2,
   "metadata": {},
   "outputs": [
    {
     "name": "stdout",
     "output_type": "stream",
     "text": [
      "len(train_x_data): 25000\n",
      "len(test_x_data): 25000\n"
     ]
    }
   ],
   "source": [
    "# refer: http://ai.stanford.edu/~amaas/data/sentiment/\n",
    "\n",
    "import os\n",
    "\n",
    "data_dir = \"./datasets/aclImdb\"\n",
    "train_dir = os.path.join(data_dir, 'train')\n",
    "test_dir = os.path.join(data_dir, 'test')\n",
    "\n",
    "def load_dataset(split='train'):\n",
    "    x_data = []\n",
    "    y_data = []\n",
    "    \n",
    "    base_dir = './datasets/aclImdb'\n",
    "    split_dir = os.path.join(base_dir, split)\n",
    "    for sentiment, y in [('neg', 0), ('pos', 1)]:\n",
    "        data_dir = os.path.join(split_dir, sentiment)\n",
    "        for file_name in os.listdir(data_dir):\n",
    "            file_path = os.path.join(data_dir, file_name)\n",
    "            with open(file_path, 'r', encoding='utf-8') as fp:\n",
    "                review = fp.read()\n",
    "            x_data.append(review)\n",
    "            y_data.append(y)\n",
    "            \n",
    "    return x_data, y_data\n",
    "            \n",
    "train_x_data, train_y_data = load_dataset(split='train')\n",
    "test_x_data, test_y_data = load_dataset(split='test')\n",
    "\n",
    "print(\"len(train_x_data): {}\".format(len(train_x_data)))\n",
    "print(\"len(test_x_data): {}\".format(len(test_x_data)))"
   ]
  },
  {
   "cell_type": "raw",
   "metadata": {},
   "source": [
    "from nltk.tokenize import sent_tokenize\n",
    "\n",
    "def average(x):\n",
    "    return sum(x) / len(x)\n",
    "\n",
    "avg_nb_words = average([len(review.strip().split()) for review in train_x_data])\n",
    "print(\"Average # of words: {}\".format(avg_nb_words))\n",
    "# Average # of words: 233.7872\n",
    "\n",
    "avg_nb_sentences = average([len(sent_tokenize(review)) for review in train_x_data])\n",
    "print(\"Average # of sentences: {}\".format(avg_nb_sentences))\n",
    "# Average # of sentences: 10.83412\n",
    "\n",
    "avg_nb_words_in_sentence = average([average([len(sent.strip().split()) for sent in sent_tokenize(review)]) for review in train_x_data])\n",
    "print(\"Average # of words in sentence: {}\".format(avg_nb_words_in_sentence))\n",
    "# Average # of words in sentence: 24.953852357350815"
   ]
  },
  {
   "cell_type": "code",
   "execution_count": 3,
   "metadata": {},
   "outputs": [
    {
     "name": "stderr",
     "output_type": "stream",
     "text": [
      "C:\\ProgramData\\Anaconda3\\envs\\tensorflow\\lib\\site-packages\\h5py\\__init__.py:36: FutureWarning: Conversion of the second argument of issubdtype from `float` to `np.floating` is deprecated. In future, it will be treated as `np.float64 == np.dtype(float).type`.\n",
      "  from ._conv import register_converters as _register_converters\n",
      "Using TensorFlow backend.\n"
     ]
    },
    {
     "name": "stdout",
     "output_type": "stream",
     "text": [
      "train_X_data.shape: (25000, 10, 25)\n",
      "test_X_data.shape: (25000, 10, 25)\n"
     ]
    }
   ],
   "source": [
    "import numpy as np\n",
    "from keras.preprocessing.text import Tokenizer\n",
    "from keras.preprocessing.sequence import pad_sequences\n",
    "from keras.utils import to_categorical\n",
    "from nltk.tokenize import sent_tokenize\n",
    "\n",
    "tokenizer = Tokenizer()\n",
    "tokenizer.fit_on_texts(train_x_data)\n",
    "tokenizer.fit_on_texts(test_x_data)\n",
    "\n",
    "max_nb_words = len(tokenizer.word_index) + 1\n",
    "\n",
    "def doc2hierarchical(text,\n",
    "                     max_sentences=MAX_SENTENCES,\n",
    "                     max_sentence_length=MAX_SENTENCE_LENGTH):\n",
    "    sentences = sent_tokenize(text)\n",
    "    tokenized_sentences = tokenizer.texts_to_sequences(sentences)\n",
    "    tokenized_sentences = pad_sequences(tokenized_sentences, maxlen=max_sentence_length)\n",
    "\n",
    "    pad_size = max_sentences - tokenized_sentences.shape[0]\n",
    "\n",
    "    if pad_size <= 0:  # tokenized_sentences.shape[0] < max_sentences\n",
    "        tokenized_sentences = tokenized_sentences[:max_sentences]\n",
    "    else:\n",
    "        tokenized_sentences = np.pad(\n",
    "            tokenized_sentences, ((0, pad_size), (0, 0)),\n",
    "            mode='constant', constant_values=0\n",
    "        )\n",
    "    \n",
    "    return tokenized_sentences\n",
    "            \n",
    "def build_dataset(x_data, y_data, \n",
    "                  max_sentences=MAX_SENTENCES, \n",
    "                  max_sentence_length=MAX_SENTENCE_LENGTH,\n",
    "                  tokenizer=tokenizer):\n",
    "    \n",
    "    nb_instances = len(x_data)\n",
    "    X_data = np.zeros((nb_instances, max_sentences, max_sentence_length), dtype='int32')\n",
    "    for i, review in enumerate(x_data):\n",
    "        tokenized_sentences = doc2hierarchical(review)\n",
    "            \n",
    "        X_data[i] = tokenized_sentences[None, ...]\n",
    "        \n",
    "    nb_classes = len(set(y_data))\n",
    "    Y_data = to_categorical(y_data, nb_classes)\n",
    "    \n",
    "    return X_data, Y_data\n",
    "\n",
    "train_X_data, train_Y_data = build_dataset(train_x_data, train_y_data)\n",
    "test_X_data, test_Y_data = build_dataset(test_x_data, test_y_data)\n",
    "\n",
    "print(\"train_X_data.shape: {}\".format(train_X_data.shape))\n",
    "print(\"test_X_data.shape: {}\".format(test_X_data.shape))"
   ]
  },
  {
   "cell_type": "code",
   "execution_count": 4,
   "metadata": {},
   "outputs": [
    {
     "name": "stdout",
     "output_type": "stream",
     "text": [
      "train_X_data.shape: (22500, 10, 25)\n",
      "train_Y_data.shape: (22500, 2)\n",
      "val_X_data.shape: (2500, 10, 25)\n",
      "val_Y_data.shape: (2500, 2)\n"
     ]
    }
   ],
   "source": [
    "from sklearn.model_selection import train_test_split\n",
    "train_X_data, val_X_data, train_Y_data, val_Y_data = train_test_split(train_X_data, train_Y_data, \n",
    "                                                                      test_size=0.1, \n",
    "                                                                      random_state=42)\n",
    "\n",
    "print(\"train_X_data.shape: {}\".format(train_X_data.shape))\n",
    "print(\"train_Y_data.shape: {}\".format(train_Y_data.shape))\n",
    "print(\"val_X_data.shape: {}\".format(val_X_data.shape))\n",
    "print(\"val_Y_data.shape: {}\".format(val_Y_data.shape))"
   ]
  },
  {
   "cell_type": "code",
   "execution_count": 5,
   "metadata": {},
   "outputs": [
    {
     "name": "stderr",
     "output_type": "stream",
     "text": [
      "paramiko missing, opening SSH/SCP/SFTP paths will be disabled.  `pip install paramiko` to suppress\n"
     ]
    },
    {
     "name": "stdout",
     "output_type": "stream",
     "text": [
      "embedding_matrix.shape: (124253, 300)\n"
     ]
    }
   ],
   "source": [
    "embedding_dir = './embeddings/'\n",
    "\n",
    "def load_word2vec(tokenizer=tokenizer):\n",
    "    from gensim.models import KeyedVectors\n",
    "    embedding_path = os.path.join(embedding_dir, 'GoogleNews-vectors-negative300.bin')\n",
    "    embeddings_index = KeyedVectors.load_word2vec_format(embedding_path, binary=True)\n",
    "    \n",
    "    return embeddings_index\n",
    "    \n",
    "def load_embedding(embedding_type='word2vec',\n",
    "                   tokenizer=tokenizer,\n",
    "                   embedding_dim=300):\n",
    "    \n",
    "    if embedding_type == 'word2vec':\n",
    "        embeddings_index = load_word2vec()\n",
    "        \n",
    "    embedding_matrix = np.random.normal(0, 1, (max_nb_words, embedding_dim))\n",
    "    for word, i in tokenizer.word_index.items():\n",
    "        try:\n",
    "            embedding_vector = embeddings_index[word]\n",
    "        except KeyError:\n",
    "            embedding_vector = None\n",
    "        if embedding_vector is not None:\n",
    "            embedding_matrix[i] = embedding_vector\n",
    "            \n",
    "    return embedding_matrix\n",
    "\n",
    "embedding_matrix = load_embedding('word2vec')\n",
    "\n",
    "print(\"embedding_matrix.shape: {}\".format(embedding_matrix.shape))"
   ]
  },
  {
   "cell_type": "code",
   "execution_count": 6,
   "metadata": {
    "scrolled": false
   },
   "outputs": [
    {
     "name": "stdout",
     "output_type": "stream",
     "text": [
      "Train on 22500 samples, validate on 2500 samples\n",
      "Epoch 1/30\n",
      "22500/22500 [==============================] - 9s 388us/step - loss: 0.5270 - acc: 0.7200 - val_loss: 0.3939 - val_acc: 0.8276\n",
      "\n",
      "Epoch 00001: val_acc improved from -inf to 0.82760, saving model to ./models/checkpoints/HieAtt.h5\n",
      "Epoch 2/30\n",
      "22500/22500 [==============================] - 6s 284us/step - loss: 0.3692 - acc: 0.8375 - val_loss: 0.3546 - val_acc: 0.8408\n",
      "\n",
      "Epoch 00002: val_acc improved from 0.82760 to 0.84080, saving model to ./models/checkpoints/HieAtt.h5\n",
      "Epoch 3/30\n",
      "22500/22500 [==============================] - 6s 284us/step - loss: 0.3370 - acc: 0.8545 - val_loss: 0.3445 - val_acc: 0.8496\n",
      "\n",
      "Epoch 00003: val_acc improved from 0.84080 to 0.84960, saving model to ./models/checkpoints/HieAtt.h5\n",
      "Epoch 4/30\n",
      "22500/22500 [==============================] - 6s 283us/step - loss: 0.3117 - acc: 0.8671 - val_loss: 0.3292 - val_acc: 0.8600\n",
      "\n",
      "Epoch 00004: val_acc improved from 0.84960 to 0.86000, saving model to ./models/checkpoints/HieAtt.h5\n",
      "Epoch 5/30\n",
      "22500/22500 [==============================] - 6s 283us/step - loss: 0.2943 - acc: 0.8756 - val_loss: 0.3270 - val_acc: 0.8644\n",
      "\n",
      "Epoch 00005: val_acc improved from 0.86000 to 0.86440, saving model to ./models/checkpoints/HieAtt.h5\n",
      "Epoch 6/30\n",
      "22500/22500 [==============================] - 6s 283us/step - loss: 0.2827 - acc: 0.8822 - val_loss: 0.3274 - val_acc: 0.8616\n",
      "\n",
      "Epoch 00006: val_acc did not improve from 0.86440\n",
      "Epoch 7/30\n",
      "22500/22500 [==============================] - 6s 283us/step - loss: 0.2589 - acc: 0.8926 - val_loss: 0.3491 - val_acc: 0.8572\n",
      "\n",
      "Epoch 00007: val_acc did not improve from 0.86440\n",
      "Epoch 8/30\n",
      "22500/22500 [==============================] - 6s 283us/step - loss: 0.2339 - acc: 0.9041 - val_loss: 0.3424 - val_acc: 0.8552\n",
      "\n",
      "Epoch 00008: val_acc did not improve from 0.86440\n",
      "Epoch 9/30\n",
      "22500/22500 [==============================] - 6s 282us/step - loss: 0.2162 - acc: 0.9140 - val_loss: 0.3414 - val_acc: 0.8680\n",
      "\n",
      "Epoch 00009: val_acc improved from 0.86440 to 0.86800, saving model to ./models/checkpoints/HieAtt.h5\n",
      "Epoch 10/30\n",
      "22500/22500 [==============================] - 6s 284us/step - loss: 0.1979 - acc: 0.9212 - val_loss: 0.3671 - val_acc: 0.8580\n",
      "\n",
      "Epoch 00010: val_acc did not improve from 0.86800\n",
      "Epoch 11/30\n",
      "22500/22500 [==============================] - 6s 282us/step - loss: 0.1728 - acc: 0.9315 - val_loss: 0.3442 - val_acc: 0.8684\n",
      "\n",
      "Epoch 00011: val_acc improved from 0.86800 to 0.86840, saving model to ./models/checkpoints/HieAtt.h5\n",
      "Epoch 12/30\n",
      "22500/22500 [==============================] - 6s 284us/step - loss: 0.1542 - acc: 0.9412 - val_loss: 0.3641 - val_acc: 0.8580\n",
      "\n",
      "Epoch 00012: val_acc did not improve from 0.86840\n",
      "Epoch 13/30\n",
      "22500/22500 [==============================] - 6s 282us/step - loss: 0.1409 - acc: 0.9453 - val_loss: 0.4406 - val_acc: 0.8600\n",
      "\n",
      "Epoch 00013: val_acc did not improve from 0.86840\n",
      "Epoch 14/30\n",
      "22500/22500 [==============================] - 6s 283us/step - loss: 0.1266 - acc: 0.9506 - val_loss: 0.4196 - val_acc: 0.8524\n",
      "\n",
      "Epoch 00014: val_acc did not improve from 0.86840\n",
      "Epoch 15/30\n",
      "22500/22500 [==============================] - 6s 283us/step - loss: 0.1005 - acc: 0.9620 - val_loss: 0.4329 - val_acc: 0.8632\n",
      "\n",
      "Epoch 00015: val_acc did not improve from 0.86840\n",
      "Epoch 16/30\n",
      "22500/22500 [==============================] - 6s 283us/step - loss: 0.0975 - acc: 0.9645 - val_loss: 0.4639 - val_acc: 0.8596\n",
      "\n",
      "Epoch 00016: val_acc did not improve from 0.86840\n",
      "Epoch 17/30\n",
      "22500/22500 [==============================] - 6s 282us/step - loss: 0.0857 - acc: 0.9679 - val_loss: 0.4904 - val_acc: 0.8628\n",
      "\n",
      "Epoch 00017: val_acc did not improve from 0.86840\n",
      "Epoch 18/30\n",
      "22500/22500 [==============================] - 6s 283us/step - loss: 0.0737 - acc: 0.9729 - val_loss: 0.5554 - val_acc: 0.8568\n",
      "\n",
      "Epoch 00018: val_acc did not improve from 0.86840\n",
      "Epoch 19/30\n",
      "22500/22500 [==============================] - 6s 283us/step - loss: 0.0721 - acc: 0.9729 - val_loss: 0.6466 - val_acc: 0.8504\n",
      "\n",
      "Epoch 00019: val_acc did not improve from 0.86840\n",
      "Epoch 20/30\n",
      "22500/22500 [==============================] - 6s 283us/step - loss: 0.0575 - acc: 0.9781 - val_loss: 0.5872 - val_acc: 0.8588\n",
      "\n",
      "Epoch 00020: val_acc did not improve from 0.86840\n",
      "Epoch 21/30\n",
      "22500/22500 [==============================] - 6s 283us/step - loss: 0.0566 - acc: 0.9788 - val_loss: 0.5643 - val_acc: 0.8608\n",
      "\n",
      "Epoch 00021: val_acc did not improve from 0.86840\n",
      "Epoch 22/30\n",
      "22500/22500 [==============================] - 6s 283us/step - loss: 0.0510 - acc: 0.9800 - val_loss: 0.6284 - val_acc: 0.8656\n",
      "\n",
      "Epoch 00022: val_acc did not improve from 0.86840\n",
      "Epoch 23/30\n",
      "22500/22500 [==============================] - 6s 283us/step - loss: 0.0431 - acc: 0.9848 - val_loss: 0.5677 - val_acc: 0.8624\n",
      "\n",
      "Epoch 00023: val_acc did not improve from 0.86840\n",
      "Epoch 24/30\n",
      "22500/22500 [==============================] - 6s 283us/step - loss: 0.0396 - acc: 0.9856 - val_loss: 0.6312 - val_acc: 0.8596\n",
      "\n",
      "Epoch 00024: val_acc did not improve from 0.86840\n",
      "Epoch 25/30\n",
      "22500/22500 [==============================] - 6s 282us/step - loss: 0.0380 - acc: 0.9854 - val_loss: 0.7179 - val_acc: 0.8572\n",
      "\n",
      "Epoch 00025: val_acc did not improve from 0.86840\n",
      "Epoch 26/30\n",
      "22500/22500 [==============================] - 6s 282us/step - loss: 0.0349 - acc: 0.9875 - val_loss: 0.6994 - val_acc: 0.8604\n",
      "\n",
      "Epoch 00026: val_acc did not improve from 0.86840\n",
      "Epoch 27/30\n",
      "22500/22500 [==============================] - 6s 283us/step - loss: 0.0335 - acc: 0.9880 - val_loss: 0.7157 - val_acc: 0.8500\n",
      "\n",
      "Epoch 00027: val_acc did not improve from 0.86840\n",
      "Epoch 28/30\n",
      "22500/22500 [==============================] - 6s 282us/step - loss: 0.0308 - acc: 0.9886 - val_loss: 0.7379 - val_acc: 0.8612\n",
      "\n",
      "Epoch 00028: val_acc did not improve from 0.86840\n",
      "Epoch 29/30\n",
      "22500/22500 [==============================] - 6s 283us/step - loss: 0.0252 - acc: 0.9909 - val_loss: 0.7195 - val_acc: 0.8576\n",
      "\n",
      "Epoch 00029: val_acc did not improve from 0.86840\n",
      "Epoch 30/30\n",
      "22500/22500 [==============================] - 6s 283us/step - loss: 0.0362 - acc: 0.9859 - val_loss: 0.7535 - val_acc: 0.8584\n",
      "\n",
      "Epoch 00030: val_acc did not improve from 0.86840\n"
     ]
    }
   ],
   "source": [
    "import keras\n",
    "from keras import backend as K\n",
    "from keras.engine.topology import Layer\n",
    "\n",
    "from keras.layers import Input, Embedding, Dense\n",
    "from keras.layers import Lambda, Permute, RepeatVector, Multiply\n",
    "from keras.layers import Bidirectional, TimeDistributed\n",
    "from keras.layers import CuDNNGRU\n",
    "from keras.layers import BatchNormalization, Dropout\n",
    "from keras.models import Model, Sequential\n",
    "from keras.callbacks import ModelCheckpoint\n",
    "\n",
    "class AttentionLayer(Layer):\n",
    "    def __init__(self, attention_dim, **kwargs):\n",
    "        self.attention_dim = attention_dim\n",
    "        super(AttentionLayer, self).__init__(**kwargs)\n",
    "    \n",
    "    def build(self, input_shape):\n",
    "        self.W = self.add_weight(name='Attention_Weight',\n",
    "                                 shape=(input_shape[-1], self.attention_dim),\n",
    "                                 initializer='random_normal',\n",
    "                                 trainable=True)\n",
    "        self.b = self.add_weight(name='Attention_Bias',\n",
    "                                 shape=(self.attention_dim, ),\n",
    "                                 initializer='random_normal',\n",
    "                                 trainable=True)\n",
    "        self.u = self.add_weight(name='Attention_Context_Vector',\n",
    "                                 shape=(self.attention_dim, 1),\n",
    "                                 initializer='random_normal',\n",
    "                                 trainable=True)\n",
    "        super(AttentionLayer, self).build(input_shape)\n",
    "        \n",
    "    def call(self, x):\n",
    "        # refer to the original paper\n",
    "        # link: https://www.cs.cmu.edu/~hovy/papers/16HLT-hierarchical-attention-networks.pdf\n",
    "        u_it = K.tanh(K.dot(x, self.W) + self.b)\n",
    "        a_it = K.dot(u_it, self.u)\n",
    "        a_it = K.squeeze(a_it, -1)\n",
    "        a_it = K.softmax(a_it)\n",
    "        \n",
    "        return a_it\n",
    "        \n",
    "    def compute_output_shape(self, input_shape):\n",
    "        return (input_shape[0], input_shape[1])\n",
    "    \n",
    "\n",
    "def WeightedSum(attentions, representations):\n",
    "    # from Shape(batch_size, len_units) to Shape(batch_size, rnn_dim * 2, len_units)\n",
    "    repeated_attentions = RepeatVector(K.int_shape(representations)[-1])(attentions)\n",
    "    # from Shape(batch_size, rnn_dim * 2, len_units) to Shape(batch_size, len_units, lstm_dim * 2)\n",
    "    repeated_attentions = Permute([2, 1])(repeated_attentions)\n",
    "\n",
    "    # compute representation as the weighted sum of representations\n",
    "    aggregated_representation = Multiply()([representations, repeated_attentions])\n",
    "    aggregated_representation = Lambda(lambda x: K.sum(x, axis=1))(aggregated_representation)\n",
    "\n",
    "    return aggregated_representation\n",
    "    \n",
    "    \n",
    "def HieAtt(embedding_matrix,\n",
    "           max_sentences,\n",
    "           max_sentence_length,\n",
    "           nb_classes,\n",
    "           embedding_dim=300,\n",
    "           attention_dim=100,\n",
    "           rnn_dim=150,\n",
    "           include_dense_batch_normalization=False,\n",
    "           include_dense_dropout=True,\n",
    "           nb_dense=1,\n",
    "           dense_dim=300,\n",
    "           dense_dropout=0.2,\n",
    "           optimizer = keras.optimizers.Adam(lr=0.001)):\n",
    "\n",
    "    # embedding_matrix = (max_nb_words + 1, embedding_dim)\n",
    "    max_nb_words = embedding_matrix.shape[0] - 1\n",
    "    embedding_layer = Embedding(max_nb_words + 1, \n",
    "                                embedding_dim,\n",
    "                                weights=[embedding_matrix],\n",
    "                                input_length=max_sentence_length,\n",
    "                                trainable=False)\n",
    "\n",
    "    # first, build a sentence encoder\n",
    "    sentence_input = Input(shape=(max_sentence_length, ), dtype='int32')\n",
    "    embedded_sentence = embedding_layer(sentence_input)\n",
    "    embedded_sentence = Dropout(dense_dropout)(embedded_sentence)\n",
    "    contextualized_sentence = Bidirectional(CuDNNGRU(rnn_dim, return_sequences=True))(embedded_sentence)\n",
    "    \n",
    "    # word attention computation\n",
    "    word_attention = AttentionLayer(attention_dim)(contextualized_sentence)\n",
    "    sentence_representation = WeightedSum(word_attention, contextualized_sentence)\n",
    "    \n",
    "    sentence_encoder = Model(inputs=[sentence_input], \n",
    "                             outputs=[sentence_representation])\n",
    "\n",
    "    # then, build a document encoder\n",
    "    document_input = Input(shape=(max_sentences, max_sentence_length), dtype='int32')\n",
    "    embedded_document = TimeDistributed(sentence_encoder)(document_input)\n",
    "    contextualized_document = Bidirectional(CuDNNGRU(rnn_dim, return_sequences=True))(embedded_document)\n",
    "    \n",
    "    # sentence attention computation\n",
    "    sentence_attention = AttentionLayer(attention_dim)(contextualized_document)\n",
    "    document_representation = WeightedSum(sentence_attention, contextualized_document)\n",
    "    \n",
    "    # finally, add fc layers for classification\n",
    "    fc_layers = Sequential()\n",
    "    for _ in range(nb_dense):\n",
    "        if include_dense_batch_normalization == True:\n",
    "            fc_layers.add(BatchNormalization())\n",
    "        fc_layers.add(Dense(dense_dim, activation='relu'))\n",
    "        if include_dense_dropout == True:\n",
    "            fc_layers.add(Dropout(dense_dropout))\n",
    "    fc_layers.add(Dense(nb_classes, activation='softmax'))\n",
    "    \n",
    "    pred_sentiment = fc_layers(document_representation)\n",
    "\n",
    "    model = Model(inputs=[document_input],\n",
    "                  outputs=[pred_sentiment])\n",
    "    \n",
    "    ############### build attention extractor ###############\n",
    "    word_attention_extractor = Model(inputs=[sentence_input],\n",
    "                                     outputs=[word_attention])\n",
    "    word_attentions = TimeDistributed(word_attention_extractor)(document_input)\n",
    "    attention_extractor = Model(inputs=[document_input],\n",
    "                                     outputs=[word_attentions, sentence_attention])\n",
    "    \n",
    "    model.compile(loss=['categorical_crossentropy'],\n",
    "              optimizer=optimizer,\n",
    "              metrics=['accuracy'])\n",
    "\n",
    "    return model, attention_extractor\n",
    "\n",
    "\n",
    "model_name = \"HieAtt\"\n",
    "model_path = './models/checkpoints/{}.h5'.format(model_name)\n",
    "checkpointer = ModelCheckpoint(filepath=model_path,\n",
    "                               monitor='val_acc',\n",
    "                               verbose=True,\n",
    "                               save_best_only=True,\n",
    "                               mode='max')\n",
    "\n",
    "model, attention_extractor = HieAtt(embedding_matrix=embedding_matrix,\n",
    "                                    max_sentences=MAX_SENTENCES,\n",
    "                                    max_sentence_length=MAX_SENTENCE_LENGTH,\n",
    "                                    nb_classes=2,\n",
    "                                    embedding_dim=300,\n",
    "                                    attention_dim=100,\n",
    "                                    rnn_dim=150,\n",
    "                                    include_dense_batch_normalization=False,\n",
    "                                    include_dense_dropout=True,\n",
    "                                    nb_dense=1,\n",
    "                                    dense_dim=300,\n",
    "                                    dense_dropout=0.2,\n",
    "                                    optimizer = keras.optimizers.Adam(lr=0.001))\n",
    "\n",
    "history = model.fit(x=[train_X_data],\n",
    "                    y=[train_Y_data],\n",
    "                    batch_size=128,\n",
    "                    epochs=30,\n",
    "                    verbose=True,\n",
    "                    validation_data=(val_X_data, val_Y_data),\n",
    "                    callbacks=[checkpointer])"
   ]
  },
  {
   "cell_type": "code",
   "execution_count": 7,
   "metadata": {},
   "outputs": [
    {
     "name": "stdout",
     "output_type": "stream",
     "text": [
      "Test Accuracy of HieAtt: 0.868160000038147\n"
     ]
    }
   ],
   "source": [
    "model.load_weights(model_path)\n",
    "score = model.evaluate(test_X_data, test_Y_data, verbose=0, batch_size=128)\n",
    "print(\"Test Accuracy of {}: {}\".format(model_name, score[1]))"
   ]
  },
  {
   "cell_type": "code",
   "execution_count": 12,
   "metadata": {},
   "outputs": [
    {
     "data": {
      "image/png": "[encoded data removed]",
      "text/plain": [
       "<Figure size 432x288 with 1 Axes>"
      ]
     },
     "metadata": {},
     "output_type": "display_data"
    }
   ],
   "source": [
    "import matplotlib.pyplot as plt\n",
    "\n",
    "history_dict = history.history\n",
    "loss = history_dict['loss']\n",
    "val_loss = history_dict['val_loss']\n",
    "\n",
    "epochs = range(1, len(loss) + 1)\n",
    "\n",
    "plt.plot(epochs, loss, 'bo', label='Training loss')\n",
    "plt.plot(epochs, val_loss, 'b', label='Validation loss')\n",
    "plt.title('Training and validation loss')\n",
    "plt.xlabel('Epochs')\n",
    "plt.ylabel('Loss')\n",
    "plt.legend()\n",
    "\n",
    "plt.show()"
   ]
  },
  {
   "cell_type": "code",
   "execution_count": 9,
   "metadata": {},
   "outputs": [
    {
     "data": {
      "image/png": "[encoded data removed]",
      "text/plain": [
       "<Figure size 432x288 with 1 Axes>"
      ]
     },
     "metadata": {},
     "output_type": "display_data"
    }
   ],
   "source": [
    "plt.clf()\n",
    "acc = history_dict['acc']\n",
    "val_acc = history_dict['val_acc']\n",
    "\n",
    "epochs = range(1, len(loss) + 1)\n",
    "\n",
    "plt.plot(epochs, acc, 'bo', label='Training acc')\n",
    "plt.plot(epochs, val_acc, 'b', label='Validation acc')\n",
    "plt.title('Training and validation accuracy')\n",
    "plt.xlabel('Epochs')\n",
    "plt.ylabel('Accuracy')\n",
    "plt.legend()\n",
    "\n",
    "plt.show()"
   ]
  },
  {
   "cell_type": "code",
   "execution_count": 10,
   "metadata": {
    "scrolled": true
   },
   "outputs": [
    {
     "name": "stdout",
     "output_type": "stream",
     "text": [
      "__________________________________________________________________________________________________\n",
      "Layer (type)                    Output Shape         Param #     Connected to                     \n",
      "==================================================================================================\n",
      "input_2 (InputLayer)            (None, 10, 25)       0                                            \n",
      "__________________________________________________________________________________________________\n",
      "time_distributed_1 (TimeDistrib (None, 10, 300)      37712900    input_2[0][0]                    \n",
      "__________________________________________________________________________________________________\n",
      "bidirectional_2 (Bidirectional) (None, 10, 300)      406800      time_distributed_1[0][0]         \n",
      "__________________________________________________________________________________________________\n",
      "attention_layer_2 (AttentionLay (None, 10)           30200       bidirectional_2[0][0]            \n",
      "__________________________________________________________________________________________________\n",
      "repeat_vector_2 (RepeatVector)  (None, 300, 10)      0           attention_layer_2[0][0]          \n",
      "__________________________________________________________________________________________________\n",
      "permute_2 (Permute)             (None, 10, 300)      0           repeat_vector_2[0][0]            \n",
      "__________________________________________________________________________________________________\n",
      "multiply_2 (Multiply)           (None, 10, 300)      0           bidirectional_2[0][0]            \n",
      "                                                                 permute_2[0][0]                  \n",
      "__________________________________________________________________________________________________\n",
      "lambda_2 (Lambda)               (None, 300)          0           multiply_2[0][0]                 \n",
      "__________________________________________________________________________________________________\n",
      "sequential_1 (Sequential)       (None, 2)            90902       lambda_2[0][0]                   \n",
      "==================================================================================================\n",
      "Total params: 38,240,802\n",
      "Trainable params: 964,902\n",
      "Non-trainable params: 37,275,900\n",
      "__________________________________________________________________________________________________\n"
     ]
    }
   ],
   "source": [
    "model.summary()"
   ]
  },
  {
   "cell_type": "code",
   "execution_count": 11,
   "metadata": {},
   "outputs": [
    {
     "data": {
      "image/png": "[encoded data removed]",
      "text/plain": [
       "<Figure size 288x72 with 2 Axes>"
      ]
     },
     "metadata": {},
     "output_type": "display_data"
    },
    {
     "data": {
      "image/png": "[encoded data removed]",
      "text/plain": [
       "<Figure size 504x72 with 2 Axes>"
      ]
     },
     "metadata": {},
     "output_type": "display_data"
    },
    {
     "data": {
      "image/png": "[encoded data removed]",
      "text/plain": [
       "<Figure size 144x72 with 2 Axes>"
      ]
     },
     "metadata": {},
     "output_type": "display_data"
    },
    {
     "data": {
      "image/png": "[encoded data removed]",
      "text/plain": [
       "<Figure size 792x72 with 2 Axes>"
      ]
     },
     "metadata": {},
     "output_type": "display_data"
    },
    {
     "data": {
      "image/png": "[encoded data removed]",
      "text/plain": [
       "<Figure size 504x72 with 2 Axes>"
      ]
     },
     "metadata": {},
     "output_type": "display_data"
    },
    {
     "data": {
      "image/png": "[encoded data removed]",
      "text/plain": [
       "<Figure size 216x72 with 2 Axes>"
      ]
     },
     "metadata": {},
     "output_type": "display_data"
    }
   ],
   "source": [
    "import seaborn as sn\n",
    "\n",
    "word_rev_index = {}\n",
    "for word, i in tokenizer.word_index.items():\n",
    "    word_rev_index[i] = word\n",
    "\n",
    "def sentiment_analysis(review):        \n",
    "    tokenized_sentences = doc2hierarchical(review)\n",
    "    \n",
    "    # word attention만 가져오기\n",
    "    pred_attention = attention_extractor.predict(np.asarray([tokenized_sentences]))[0][0]\n",
    "    for sent_idx, sentence in enumerate(tokenized_sentences):\n",
    "        if sentence[-1] == 0:\n",
    "            continue\n",
    "            \n",
    "        for word_idx in range(MAX_SENTENCE_LENGTH):\n",
    "            if sentence[word_idx] != 0:\n",
    "                words = [word_rev_index[word_id] for word_id in sentence[word_idx:]]\n",
    "                pred_att = pred_attention[sent_idx][-len(words):]\n",
    "                pred_att = np.expand_dims(pred_att, axis=0)\n",
    "                break\n",
    "\n",
    "        fig, ax = plt.subplots(figsize=(len(words), 1))\n",
    "        plt.rc('xtick', labelsize=16)\n",
    "        midpoint = (max(pred_att[:, 0]) - min(pred_att[:, 0])) / 2\n",
    "        heatmap = sn.heatmap(pred_att, xticklabels=words, yticklabels=False, square=True, linewidths=0.1, cmap='coolwarm', center=midpoint, vmin=0, vmax=1)\n",
    "        plt.xticks(rotation=45)\n",
    "        plt.show()\n",
    "        \n",
    "# sentiment_analysis(\"Delicious healthy food. The steak is amazing. Fish and pork are awesome too. Service is above and beyond. Not a bad thing to say about this place. Worth every penny!\")\n",
    "sentiment_analysis(\"Absolute perfection end game !! Good acting performance to all the characters. Great cgi's. Truly epic & perfect ending to a long journey of marvel movie. Go see it you wont regret it !! Perfection Marvel Endgame !!\")"
   ]
  }
 ],
 "metadata": {
  "kernelspec": {
   "display_name": "Python 3",
   "language": "python",
   "name": "python3"
  },
  "language_info": {
   "codemirror_mode": {
    "name": "ipython",
    "version": 3
   },
   "file_extension": ".py",
   "mimetype": "text/x-python",
   "name": "python",
   "nbconvert_exporter": "python",
   "pygments_lexer": "ipython3",
   "version": "3.5.5"
  }
 },
 "nbformat": 4,
 "nbformat_minor": 2
}
